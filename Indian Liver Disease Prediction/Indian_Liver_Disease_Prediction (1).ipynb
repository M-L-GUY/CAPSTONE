{
  "nbformat": 4,
  "nbformat_minor": 0,
  "metadata": {
    "colab": {
      "name": "Indian Liver Disease Prediction.ipynb",
      "provenance": [],
      "collapsed_sections": []
    },
    "kernelspec": {
      "name": "python3",
      "display_name": "Python 3"
    },
    "accelerator": "GPU"
  },
  "cells": [
    {
      "cell_type": "code",
      "metadata": {
        "colab": {
          "base_uri": "https://localhost:8080/"
        },
        "id": "OV_NOSTvtYKr",
        "outputId": "337aae73-2459-4794-d9e2-1d3f612f060c"
      },
      "source": [
        "from google.colab import drive\r\n",
        "drive.mount('/content/drive')"
      ],
      "execution_count": 1,
      "outputs": [
        {
          "output_type": "stream",
          "text": [
            "Mounted at /content/drive\n"
          ],
          "name": "stdout"
        }
      ]
    },
    {
      "cell_type": "code",
      "metadata": {
        "id": "g0J9rB8xtrlS"
      },
      "source": [
        "import pandas as pd\r\n",
        "import numpy as np"
      ],
      "execution_count": 16,
      "outputs": []
    },
    {
      "cell_type": "code",
      "metadata": {
        "id": "VAYgKmdEvbeS"
      },
      "source": [
        "df=pd.read_csv(\"/content/drive/MyDrive/CAPSTONE DATASET/Indian Liver Patient.zip (Unzipped Files)/indian_liver_patient.csv\")"
      ],
      "execution_count": 17,
      "outputs": []
    },
    {
      "cell_type": "code",
      "metadata": {
        "colab": {
          "base_uri": "https://localhost:8080/",
          "height": 215
        },
        "id": "Hvgw2dmYvgUW",
        "outputId": "78f08c11-8c21-4283-b046-af6c08622797"
      },
      "source": [
        "df.head()"
      ],
      "execution_count": 18,
      "outputs": [
        {
          "output_type": "execute_result",
          "data": {
            "text/html": [
              "<div>\n",
              "<style scoped>\n",
              "    .dataframe tbody tr th:only-of-type {\n",
              "        vertical-align: middle;\n",
              "    }\n",
              "\n",
              "    .dataframe tbody tr th {\n",
              "        vertical-align: top;\n",
              "    }\n",
              "\n",
              "    .dataframe thead th {\n",
              "        text-align: right;\n",
              "    }\n",
              "</style>\n",
              "<table border=\"1\" class=\"dataframe\">\n",
              "  <thead>\n",
              "    <tr style=\"text-align: right;\">\n",
              "      <th></th>\n",
              "      <th>Age</th>\n",
              "      <th>Gender</th>\n",
              "      <th>Total_Bilirubin</th>\n",
              "      <th>Direct_Bilirubin</th>\n",
              "      <th>Alkaline_Phosphotase</th>\n",
              "      <th>Alamine_Aminotransferase</th>\n",
              "      <th>Aspartate_Aminotransferase</th>\n",
              "      <th>Total_Protiens</th>\n",
              "      <th>Albumin</th>\n",
              "      <th>Albumin_and_Globulin_Ratio</th>\n",
              "      <th>Dataset</th>\n",
              "    </tr>\n",
              "  </thead>\n",
              "  <tbody>\n",
              "    <tr>\n",
              "      <th>0</th>\n",
              "      <td>65</td>\n",
              "      <td>Female</td>\n",
              "      <td>0.7</td>\n",
              "      <td>0.1</td>\n",
              "      <td>187</td>\n",
              "      <td>16</td>\n",
              "      <td>18</td>\n",
              "      <td>6.8</td>\n",
              "      <td>3.3</td>\n",
              "      <td>0.90</td>\n",
              "      <td>1</td>\n",
              "    </tr>\n",
              "    <tr>\n",
              "      <th>1</th>\n",
              "      <td>62</td>\n",
              "      <td>Male</td>\n",
              "      <td>10.9</td>\n",
              "      <td>5.5</td>\n",
              "      <td>699</td>\n",
              "      <td>64</td>\n",
              "      <td>100</td>\n",
              "      <td>7.5</td>\n",
              "      <td>3.2</td>\n",
              "      <td>0.74</td>\n",
              "      <td>1</td>\n",
              "    </tr>\n",
              "    <tr>\n",
              "      <th>2</th>\n",
              "      <td>62</td>\n",
              "      <td>Male</td>\n",
              "      <td>7.3</td>\n",
              "      <td>4.1</td>\n",
              "      <td>490</td>\n",
              "      <td>60</td>\n",
              "      <td>68</td>\n",
              "      <td>7.0</td>\n",
              "      <td>3.3</td>\n",
              "      <td>0.89</td>\n",
              "      <td>1</td>\n",
              "    </tr>\n",
              "    <tr>\n",
              "      <th>3</th>\n",
              "      <td>58</td>\n",
              "      <td>Male</td>\n",
              "      <td>1.0</td>\n",
              "      <td>0.4</td>\n",
              "      <td>182</td>\n",
              "      <td>14</td>\n",
              "      <td>20</td>\n",
              "      <td>6.8</td>\n",
              "      <td>3.4</td>\n",
              "      <td>1.00</td>\n",
              "      <td>1</td>\n",
              "    </tr>\n",
              "    <tr>\n",
              "      <th>4</th>\n",
              "      <td>72</td>\n",
              "      <td>Male</td>\n",
              "      <td>3.9</td>\n",
              "      <td>2.0</td>\n",
              "      <td>195</td>\n",
              "      <td>27</td>\n",
              "      <td>59</td>\n",
              "      <td>7.3</td>\n",
              "      <td>2.4</td>\n",
              "      <td>0.40</td>\n",
              "      <td>1</td>\n",
              "    </tr>\n",
              "  </tbody>\n",
              "</table>\n",
              "</div>"
            ],
            "text/plain": [
              "   Age  Gender  Total_Bilirubin  ...  Albumin  Albumin_and_Globulin_Ratio  Dataset\n",
              "0   65  Female              0.7  ...      3.3                        0.90        1\n",
              "1   62    Male             10.9  ...      3.2                        0.74        1\n",
              "2   62    Male              7.3  ...      3.3                        0.89        1\n",
              "3   58    Male              1.0  ...      3.4                        1.00        1\n",
              "4   72    Male              3.9  ...      2.4                        0.40        1\n",
              "\n",
              "[5 rows x 11 columns]"
            ]
          },
          "metadata": {
            "tags": []
          },
          "execution_count": 18
        }
      ]
    },
    {
      "cell_type": "code",
      "metadata": {
        "colab": {
          "base_uri": "https://localhost:8080/"
        },
        "id": "mQlK-GsNvhty",
        "outputId": "b76f13c9-2de8-41c6-f0e6-8d9933407044"
      },
      "source": [
        "df.shape"
      ],
      "execution_count": 19,
      "outputs": [
        {
          "output_type": "execute_result",
          "data": {
            "text/plain": [
              "(583, 11)"
            ]
          },
          "metadata": {
            "tags": []
          },
          "execution_count": 19
        }
      ]
    },
    {
      "cell_type": "code",
      "metadata": {
        "colab": {
          "base_uri": "https://localhost:8080/"
        },
        "id": "5m0SaQgdviqF",
        "outputId": "03966ec0-239e-4d57-867a-6aabb0c4b4fa"
      },
      "source": [
        "df['Dataset'].value_counts()"
      ],
      "execution_count": 21,
      "outputs": [
        {
          "output_type": "execute_result",
          "data": {
            "text/plain": [
              "1    416\n",
              "2    167\n",
              "Name: Dataset, dtype: int64"
            ]
          },
          "metadata": {
            "tags": []
          },
          "execution_count": 21
        }
      ]
    },
    {
      "cell_type": "markdown",
      "metadata": {
        "id": "EbFsK8v8vpdA"
      },
      "source": [
        "1 for patient <br>\r\n",
        "\r\n",
        "2 for not a patient"
      ]
    },
    {
      "cell_type": "code",
      "metadata": {
        "colab": {
          "base_uri": "https://localhost:8080/"
        },
        "id": "C_AGGtyvvoR4",
        "outputId": "9f7a7c9c-11dd-41bf-9fa3-5875a3fb4f3e"
      },
      "source": [
        "df.isnull().sum()"
      ],
      "execution_count": 22,
      "outputs": [
        {
          "output_type": "execute_result",
          "data": {
            "text/plain": [
              "Age                           0\n",
              "Gender                        0\n",
              "Total_Bilirubin               0\n",
              "Direct_Bilirubin              0\n",
              "Alkaline_Phosphotase          0\n",
              "Alamine_Aminotransferase      0\n",
              "Aspartate_Aminotransferase    0\n",
              "Total_Protiens                0\n",
              "Albumin                       0\n",
              "Albumin_and_Globulin_Ratio    4\n",
              "Dataset                       0\n",
              "dtype: int64"
            ]
          },
          "metadata": {
            "tags": []
          },
          "execution_count": 22
        }
      ]
    },
    {
      "cell_type": "code",
      "metadata": {
        "colab": {
          "base_uri": "https://localhost:8080/"
        },
        "id": "TjqwLQqavlYw",
        "outputId": "f592f807-8c96-4b92-bb73-8b0eb78309bb"
      },
      "source": [
        "df.dtypes"
      ],
      "execution_count": 23,
      "outputs": [
        {
          "output_type": "execute_result",
          "data": {
            "text/plain": [
              "Age                             int64\n",
              "Gender                         object\n",
              "Total_Bilirubin               float64\n",
              "Direct_Bilirubin              float64\n",
              "Alkaline_Phosphotase            int64\n",
              "Alamine_Aminotransferase        int64\n",
              "Aspartate_Aminotransferase      int64\n",
              "Total_Protiens                float64\n",
              "Albumin                       float64\n",
              "Albumin_and_Globulin_Ratio    float64\n",
              "Dataset                         int64\n",
              "dtype: object"
            ]
          },
          "metadata": {
            "tags": []
          },
          "execution_count": 23
        }
      ]
    },
    {
      "cell_type": "markdown",
      "metadata": {
        "id": "LbpJaV2lv3eu"
      },
      "source": [
        "therea are 4 null values only in the dataset column Albumin_and_Globulin_Ratio\r\n",
        "\r\n",
        "\r\n"
      ]
    },
    {
      "cell_type": "code",
      "metadata": {
        "id": "jGIDV_hNv1Aa"
      },
      "source": [
        "from sklearn.preprocessing import StandardScaler"
      ],
      "execution_count": 25,
      "outputs": []
    },
    {
      "cell_type": "code",
      "metadata": {
        "colab": {
          "base_uri": "https://localhost:8080/"
        },
        "id": "Zk_gPGpRvyzL",
        "outputId": "c5dd35f1-7644-4693-f7ad-0951e8a68638"
      },
      "source": [
        "col=df.columns\r\n",
        "print(col)"
      ],
      "execution_count": 26,
      "outputs": [
        {
          "output_type": "stream",
          "text": [
            "Index(['Age', 'Gender', 'Total_Bilirubin', 'Direct_Bilirubin',\n",
            "       'Alkaline_Phosphotase', 'Alamine_Aminotransferase',\n",
            "       'Aspartate_Aminotransferase', 'Total_Protiens', 'Albumin',\n",
            "       'Albumin_and_Globulin_Ratio', 'Dataset'],\n",
            "      dtype='object')\n"
          ],
          "name": "stdout"
        }
      ]
    },
    {
      "cell_type": "code",
      "metadata": {
        "colab": {
          "base_uri": "https://localhost:8080/"
        },
        "id": "vtbYjO5JwP1X",
        "outputId": "4b80e329-e0a1-4a9e-fabf-908deaac650e"
      },
      "source": [
        "features=df[['Age', 'Gender', 'Total_Bilirubin', 'Direct_Bilirubin',\r\n",
        "       'Alkaline_Phosphotase', 'Alamine_Aminotransferase',\r\n",
        "       'Aspartate_Aminotransferase', 'Total_Protiens', 'Albumin',\r\n",
        "       'Albumin_and_Globulin_Ratio']]\r\n",
        "target=df['Dataset']\r\n",
        "print(features.shape)\r\n",
        "print(target.shape)"
      ],
      "execution_count": 49,
      "outputs": [
        {
          "output_type": "stream",
          "text": [
            "(583, 10)\n",
            "(583,)\n"
          ],
          "name": "stdout"
        }
      ]
    },
    {
      "cell_type": "markdown",
      "metadata": {
        "id": "NFqLMcGuwnv9"
      },
      "source": [
        "applying one hot encoding on Gender dataset"
      ]
    },
    {
      "cell_type": "code",
      "metadata": {
        "colab": {
          "base_uri": "https://localhost:8080/"
        },
        "id": "e00ei-VYwjqt",
        "outputId": "b3f5763b-6258-460e-900b-ad9db7b6a8b6"
      },
      "source": [
        "gender=features.Gender\r\n",
        "type(gender)\r\n",
        "gender=pd.get_dummies(gender,drop_first=True)\r\n",
        "features=features.drop(columns='Gender')\r\n",
        "features_merged=pd.concat([features,gender],axis='columns')"
      ],
      "execution_count": 44,
      "outputs": [
        {
          "output_type": "execute_result",
          "data": {
            "text/plain": [
              "pandas.core.series.Series"
            ]
          },
          "metadata": {
            "tags": []
          },
          "execution_count": 44
        }
      ]
    },
    {
      "cell_type": "code",
      "metadata": {
        "id": "Y0ceI6wEwb3g"
      },
      "source": [
        "gender=pd.get_dummies(gender,drop_first=True)"
      ],
      "execution_count": 45,
      "outputs": []
    },
    {
      "cell_type": "code",
      "metadata": {
        "colab": {
          "base_uri": "https://localhost:8080/"
        },
        "id": "CrKIW65Zw-Ff",
        "outputId": "53210648-5f83-434c-97e6-83b9920aa7ab"
      },
      "source": [
        "gender.shape"
      ],
      "execution_count": 51,
      "outputs": [
        {
          "output_type": "execute_result",
          "data": {
            "text/plain": [
              "(583, 1)"
            ]
          },
          "metadata": {
            "tags": []
          },
          "execution_count": 51
        }
      ]
    },
    {
      "cell_type": "code",
      "metadata": {
        "id": "3WY20EHDyYz1"
      },
      "source": [
        "features=features.drop(columns='Gender')"
      ],
      "execution_count": 53,
      "outputs": []
    },
    {
      "cell_type": "code",
      "metadata": {
        "id": "iTQQfZuWyaMc"
      },
      "source": [
        "features_merged=pd.concat([features,gender],axis='columns')"
      ],
      "execution_count": 55,
      "outputs": []
    },
    {
      "cell_type": "code",
      "metadata": {
        "colab": {
          "base_uri": "https://localhost:8080/",
          "height": 195
        },
        "id": "CAXrD17Bygws",
        "outputId": "2f38323e-77d4-4113-9043-5a5a927a08a6"
      },
      "source": [
        "features_merged.head()"
      ],
      "execution_count": 57,
      "outputs": [
        {
          "output_type": "execute_result",
          "data": {
            "text/html": [
              "<div>\n",
              "<style scoped>\n",
              "    .dataframe tbody tr th:only-of-type {\n",
              "        vertical-align: middle;\n",
              "    }\n",
              "\n",
              "    .dataframe tbody tr th {\n",
              "        vertical-align: top;\n",
              "    }\n",
              "\n",
              "    .dataframe thead th {\n",
              "        text-align: right;\n",
              "    }\n",
              "</style>\n",
              "<table border=\"1\" class=\"dataframe\">\n",
              "  <thead>\n",
              "    <tr style=\"text-align: right;\">\n",
              "      <th></th>\n",
              "      <th>Age</th>\n",
              "      <th>Total_Bilirubin</th>\n",
              "      <th>Direct_Bilirubin</th>\n",
              "      <th>Alkaline_Phosphotase</th>\n",
              "      <th>Alamine_Aminotransferase</th>\n",
              "      <th>Aspartate_Aminotransferase</th>\n",
              "      <th>Total_Protiens</th>\n",
              "      <th>Albumin</th>\n",
              "      <th>Albumin_and_Globulin_Ratio</th>\n",
              "      <th>Male</th>\n",
              "    </tr>\n",
              "  </thead>\n",
              "  <tbody>\n",
              "    <tr>\n",
              "      <th>0</th>\n",
              "      <td>65</td>\n",
              "      <td>0.7</td>\n",
              "      <td>0.1</td>\n",
              "      <td>187</td>\n",
              "      <td>16</td>\n",
              "      <td>18</td>\n",
              "      <td>6.8</td>\n",
              "      <td>3.3</td>\n",
              "      <td>0.90</td>\n",
              "      <td>0</td>\n",
              "    </tr>\n",
              "    <tr>\n",
              "      <th>1</th>\n",
              "      <td>62</td>\n",
              "      <td>10.9</td>\n",
              "      <td>5.5</td>\n",
              "      <td>699</td>\n",
              "      <td>64</td>\n",
              "      <td>100</td>\n",
              "      <td>7.5</td>\n",
              "      <td>3.2</td>\n",
              "      <td>0.74</td>\n",
              "      <td>1</td>\n",
              "    </tr>\n",
              "    <tr>\n",
              "      <th>2</th>\n",
              "      <td>62</td>\n",
              "      <td>7.3</td>\n",
              "      <td>4.1</td>\n",
              "      <td>490</td>\n",
              "      <td>60</td>\n",
              "      <td>68</td>\n",
              "      <td>7.0</td>\n",
              "      <td>3.3</td>\n",
              "      <td>0.89</td>\n",
              "      <td>1</td>\n",
              "    </tr>\n",
              "    <tr>\n",
              "      <th>3</th>\n",
              "      <td>58</td>\n",
              "      <td>1.0</td>\n",
              "      <td>0.4</td>\n",
              "      <td>182</td>\n",
              "      <td>14</td>\n",
              "      <td>20</td>\n",
              "      <td>6.8</td>\n",
              "      <td>3.4</td>\n",
              "      <td>1.00</td>\n",
              "      <td>1</td>\n",
              "    </tr>\n",
              "    <tr>\n",
              "      <th>4</th>\n",
              "      <td>72</td>\n",
              "      <td>3.9</td>\n",
              "      <td>2.0</td>\n",
              "      <td>195</td>\n",
              "      <td>27</td>\n",
              "      <td>59</td>\n",
              "      <td>7.3</td>\n",
              "      <td>2.4</td>\n",
              "      <td>0.40</td>\n",
              "      <td>1</td>\n",
              "    </tr>\n",
              "  </tbody>\n",
              "</table>\n",
              "</div>"
            ],
            "text/plain": [
              "   Age  Total_Bilirubin  ...  Albumin_and_Globulin_Ratio  Male\n",
              "0   65              0.7  ...                        0.90     0\n",
              "1   62             10.9  ...                        0.74     1\n",
              "2   62              7.3  ...                        0.89     1\n",
              "3   58              1.0  ...                        1.00     1\n",
              "4   72              3.9  ...                        0.40     1\n",
              "\n",
              "[5 rows x 10 columns]"
            ]
          },
          "metadata": {
            "tags": []
          },
          "execution_count": 57
        }
      ]
    },
    {
      "cell_type": "code",
      "metadata": {
        "id": "JdYvcLfmy4N_"
      },
      "source": [
        "from sklearn.preprocessing import StandardScaler"
      ],
      "execution_count": 59,
      "outputs": []
    },
    {
      "cell_type": "code",
      "metadata": {
        "id": "sJJoWHG1y_09"
      },
      "source": [
        "from sklearn.impute import SimpleImputer"
      ],
      "execution_count": 63,
      "outputs": []
    },
    {
      "cell_type": "code",
      "metadata": {
        "id": "Xn1XMktszOL-"
      },
      "source": [
        "imp_mean = SimpleImputer(missing_values=np.nan, strategy='mean')\r\n",
        "x=imp_mean.fit_transform(features_merged.values)"
      ],
      "execution_count": 64,
      "outputs": []
    },
    {
      "cell_type": "code",
      "metadata": {
        "colab": {
          "base_uri": "https://localhost:8080/"
        },
        "id": "7wMI77JYzvK3",
        "outputId": "cac0db20-bebb-4382-a99b-fd48fa3a729f"
      },
      "source": [
        "x.shape"
      ],
      "execution_count": 67,
      "outputs": [
        {
          "output_type": "execute_result",
          "data": {
            "text/plain": [
              "(583, 10)"
            ]
          },
          "metadata": {
            "tags": []
          },
          "execution_count": 67
        }
      ]
    },
    {
      "cell_type": "code",
      "metadata": {
        "colab": {
          "base_uri": "https://localhost:8080/"
        },
        "id": "NVZrHeElz0dS",
        "outputId": "da5d8ec5-3950-44e5-d6a3-83eb95e4dfbf"
      },
      "source": [
        "type(x)"
      ],
      "execution_count": 70,
      "outputs": [
        {
          "output_type": "execute_result",
          "data": {
            "text/plain": [
              "numpy.ndarray"
            ]
          },
          "metadata": {
            "tags": []
          },
          "execution_count": 70
        }
      ]
    },
    {
      "cell_type": "code",
      "metadata": {
        "colab": {
          "base_uri": "https://localhost:8080/"
        },
        "id": "LFZOQaPEz3BZ",
        "outputId": "cbb91f6d-83fe-4249-ece0-3ef9edcb68a2"
      },
      "source": [
        "np.nan in x"
      ],
      "execution_count": 71,
      "outputs": [
        {
          "output_type": "execute_result",
          "data": {
            "text/plain": [
              "False"
            ]
          },
          "metadata": {
            "tags": []
          },
          "execution_count": 71
        }
      ]
    },
    {
      "cell_type": "code",
      "metadata": {
        "id": "BdEzn71t0Cjc"
      },
      "source": [
        "sc=StandardScaler()\r\n",
        "x=sc.fit_transform(x)\r\n"
      ],
      "execution_count": 73,
      "outputs": []
    },
    {
      "cell_type": "code",
      "metadata": {
        "colab": {
          "base_uri": "https://localhost:8080/"
        },
        "id": "qI7-OO7I0NSy",
        "outputId": "6b22cc9f-e5cc-4273-887a-3a9c754ee17b"
      },
      "source": [
        "x"
      ],
      "execution_count": 74,
      "outputs": [
        {
          "output_type": "execute_result",
          "data": {
            "text/plain": [
              "array([[ 1.25209764, -0.41887783, -0.49396398, ...,  0.19896867,\n",
              "        -0.14789798, -1.76228085],\n",
              "       [ 1.06663704,  1.22517135,  1.43042334, ...,  0.07315659,\n",
              "        -0.65069686,  0.56744644],\n",
              "       [ 1.06663704,  0.6449187 ,  0.93150811, ...,  0.19896867,\n",
              "        -0.17932291,  0.56744644],\n",
              "       ...,\n",
              "       [ 0.44843504, -0.4027597 , -0.45832717, ...,  0.07315659,\n",
              "         0.16635131,  0.56744644],\n",
              "       [-0.84978917, -0.32216906, -0.35141677, ...,  0.32478075,\n",
              "         0.16635131,  0.56744644],\n",
              "       [-0.41704777, -0.37052344, -0.42269037, ...,  1.58290153,\n",
              "         1.73759779,  0.56744644]])"
            ]
          },
          "metadata": {
            "tags": []
          },
          "execution_count": 74
        }
      ]
    },
    {
      "cell_type": "code",
      "metadata": {
        "id": "D8Cf3eEX0P88"
      },
      "source": [
        "from sklearn.neighbors import KNeighborsClassifier\r\n",
        "from sklearn.tree import DecisionTreeClassifier\r\n",
        "from sklearn.ensemble import RandomForestClassifier\r\n",
        "from sklearn.naive_bayes import GaussianNB\r\n",
        "from sklearn.svm import SVC\r\n",
        "from sklearn.metrics import accuracy_score"
      ],
      "execution_count": 76,
      "outputs": []
    },
    {
      "cell_type": "code",
      "metadata": {
        "id": "778wYi9L0v2V"
      },
      "source": [
        "from sklearn.model_selection import train_test_split\r\n",
        "\r\n",
        "X_train,X_test,y_train,y_test=train_test_split(x,target,test_size=0.2,random_state=0)"
      ],
      "execution_count": 78,
      "outputs": []
    },
    {
      "cell_type": "markdown",
      "metadata": {
        "id": "jdYZNXjT1C_6"
      },
      "source": [
        "## Applying SVM:\r\n"
      ]
    },
    {
      "cell_type": "code",
      "metadata": {
        "colab": {
          "base_uri": "https://localhost:8080/"
        },
        "id": "AKDOVPkm08zK",
        "outputId": "1483ca19-1daf-45dc-88f3-c942a63d7256"
      },
      "source": [
        "clf=SVC()\r\n",
        "clf.fit(X_train,y_train)\r\n",
        "print(\"Accuracy : \", accuracy_score(clf.predict(X_test),y_test))"
      ],
      "execution_count": 79,
      "outputs": [
        {
          "output_type": "stream",
          "text": [
            "Accuracy :  0.6666666666666666\n"
          ],
          "name": "stdout"
        }
      ]
    },
    {
      "cell_type": "code",
      "metadata": {
        "id": "jprCsLGd1JKD"
      },
      "source": [
        "from sklearn.model_selection import cross_val_score"
      ],
      "execution_count": 80,
      "outputs": []
    },
    {
      "cell_type": "code",
      "metadata": {
        "colab": {
          "base_uri": "https://localhost:8080/"
        },
        "id": "r4UEr-Ix1YHu",
        "outputId": "c87e7ada-548c-400e-c60c-f78f0bf0a0e4"
      },
      "source": [
        " scores = cross_val_score(clf, X_train, y_train, cv=5)\r\n"
      ],
      "execution_count": 84,
      "outputs": [
        {
          "output_type": "stream",
          "text": [
            "<built-in method mean of numpy.ndarray object at 0x7fab530245d0>\n"
          ],
          "name": "stdout"
        }
      ]
    },
    {
      "cell_type": "code",
      "metadata": {
        "colab": {
          "base_uri": "https://localhost:8080/"
        },
        "id": "saK1E-K91e6e",
        "outputId": "c81b1f21-d8c0-4e1d-9c05-6fef86dddd09"
      },
      "source": [
        "print(scores.mean())"
      ],
      "execution_count": 85,
      "outputs": [
        {
          "output_type": "stream",
          "text": [
            "0.7253260123541525\n"
          ],
          "name": "stdout"
        }
      ]
    },
    {
      "cell_type": "markdown",
      "metadata": {
        "id": "jOxWsjB01wGj"
      },
      "source": [
        "training accuracy is around 72 while test accuracy is over 66"
      ]
    },
    {
      "cell_type": "markdown",
      "metadata": {
        "id": "4OIzuxWd2HOo"
      },
      "source": [
        "## Applying Random Forest\r\n"
      ]
    },
    {
      "cell_type": "code",
      "metadata": {
        "id": "GUOfHuHt1rg6"
      },
      "source": [
        "clf=RandomForestClassifier(n_estimators=8)\r\n",
        "clf.fit(X_train,y_train)\r\n",
        "scores = cross_val_score(clf, X_train, y_train, cv=5)"
      ],
      "execution_count": 87,
      "outputs": []
    },
    {
      "cell_type": "code",
      "metadata": {
        "colab": {
          "base_uri": "https://localhost:8080/"
        },
        "id": "nM9_hWsn2PAi",
        "outputId": "41545149-2e29-47de-f803-0964f0bc89bb"
      },
      "source": [
        "print(scores.mean())"
      ],
      "execution_count": 88,
      "outputs": [
        {
          "output_type": "stream",
          "text": [
            "0.7124685426675819\n"
          ],
          "name": "stdout"
        }
      ]
    },
    {
      "cell_type": "code",
      "metadata": {
        "colab": {
          "base_uri": "https://localhost:8080/"
        },
        "id": "UMflk1Se2Rd7",
        "outputId": "d8e524a3-c3b7-4eb3-be92-e2bc3cb74174"
      },
      "source": [
        "print(\"Accuracy : \", accuracy_score(clf.predict(X_test),y_test))"
      ],
      "execution_count": 89,
      "outputs": [
        {
          "output_type": "stream",
          "text": [
            "Accuracy :  0.6666666666666666\n"
          ],
          "name": "stdout"
        }
      ]
    },
    {
      "cell_type": "markdown",
      "metadata": {
        "id": "IxQ0wePd2bLJ"
      },
      "source": [
        "##Applying decision tree classifier\r\n"
      ]
    },
    {
      "cell_type": "code",
      "metadata": {
        "colab": {
          "base_uri": "https://localhost:8080/"
        },
        "id": "P1avS3xf2WhQ",
        "outputId": "00bba835-e987-4d46-f61f-7d356b9f6300"
      },
      "source": [
        "clf=DecisionTreeClassifier()\r\n",
        "clf.fit(X_train,y_train)\r\n",
        "scores = cross_val_score(clf, X_train, y_train, cv=5)\r\n",
        "print(scores.mean())"
      ],
      "execution_count": 90,
      "outputs": [
        {
          "output_type": "stream",
          "text": [
            "0.6479524136353237\n"
          ],
          "name": "stdout"
        }
      ]
    },
    {
      "cell_type": "code",
      "metadata": {
        "colab": {
          "base_uri": "https://localhost:8080/"
        },
        "id": "zD79iGX12iV2",
        "outputId": "c44769e5-cbe1-45d2-a8bc-bd8d6991e9c0"
      },
      "source": [
        "print(\"Accuracy : \", accuracy_score(clf.predict(X_test),y_test))"
      ],
      "execution_count": 91,
      "outputs": [
        {
          "output_type": "stream",
          "text": [
            "Accuracy :  0.6495726495726496\n"
          ],
          "name": "stdout"
        }
      ]
    },
    {
      "cell_type": "markdown",
      "metadata": {
        "id": "F4prHYe222dN"
      },
      "source": [
        "## Applying logistic regression"
      ]
    },
    {
      "cell_type": "code",
      "metadata": {
        "id": "FrOW1Ubf2kx7"
      },
      "source": [
        "from sklearn.linear_model import LogisticRegression"
      ],
      "execution_count": 92,
      "outputs": []
    },
    {
      "cell_type": "code",
      "metadata": {
        "colab": {
          "base_uri": "https://localhost:8080/"
        },
        "id": "9E7oi5mT25VR",
        "outputId": "217b96cc-cf21-45d8-9112-962d511f76aa"
      },
      "source": [
        "clf = LogisticRegression(random_state=0).fit(X_train, y_train)\r\n",
        "scores = cross_val_score(clf, X_train, y_train, cv=5)\r\n",
        "print(scores.mean())"
      ],
      "execution_count": 93,
      "outputs": [
        {
          "output_type": "stream",
          "text": [
            "0.7253946465339741\n"
          ],
          "name": "stdout"
        }
      ]
    },
    {
      "cell_type": "code",
      "metadata": {
        "colab": {
          "base_uri": "https://localhost:8080/"
        },
        "id": "fJJ-3V_C3A8i",
        "outputId": "62b13199-13c5-4073-fe6d-f31fb9005c3b"
      },
      "source": [
        "print(\" testing Accuracy with logistic regression: \", accuracy_score(clf.predict(X_test),y_test))"
      ],
      "execution_count": 94,
      "outputs": [
        {
          "output_type": "stream",
          "text": [
            " testing Accuracy with logistic regression:  0.7008547008547008\n"
          ],
          "name": "stdout"
        }
      ]
    },
    {
      "cell_type": "markdown",
      "metadata": {
        "id": "uGjqMc283I4C"
      },
      "source": [
        "since the dataset was somewhat imbalanced applying upsampling techniques to fill up the data and then later on cheking how much of our accuracy is impacted"
      ]
    },
    {
      "cell_type": "markdown",
      "metadata": {
        "id": "jOtF1amO7jYU"
      },
      "source": [
        "# UPSAMPLING THE IMBALANCED DATASET : "
      ]
    },
    {
      "cell_type": "code",
      "metadata": {
        "colab": {
          "base_uri": "https://localhost:8080/"
        },
        "id": "giGHDmsn3GGS",
        "outputId": "750f6ee6-4692-453f-b4a3-d9af65212af5"
      },
      "source": [
        "df['Dataset'].value_counts()"
      ],
      "execution_count": 95,
      "outputs": [
        {
          "output_type": "execute_result",
          "data": {
            "text/plain": [
              "1    416\n",
              "2    167\n",
              "Name: Dataset, dtype: int64"
            ]
          },
          "metadata": {
            "tags": []
          },
          "execution_count": 95
        }
      ]
    },
    {
      "cell_type": "code",
      "metadata": {
        "id": "HsSX8i_E3uNK"
      },
      "source": [
        "df_majority=df[df[\"Dataset\"]==1]\r\n",
        "df_minority=df[df[\"Dataset\"]==2]"
      ],
      "execution_count": 96,
      "outputs": []
    },
    {
      "cell_type": "code",
      "metadata": {
        "id": "ddKv3pU23wsg"
      },
      "source": [
        "from sklearn.utils import resample\r\n",
        "df_minority_upsampled=resample(df_minority, replace=True, n_samples=414, random_state=123 )"
      ],
      "execution_count": 97,
      "outputs": []
    },
    {
      "cell_type": "code",
      "metadata": {
        "id": "QQLFHOg631LD"
      },
      "source": [
        "df_upsampled=pd.concat([df_majority, df_minority_upsampled])"
      ],
      "execution_count": 98,
      "outputs": []
    },
    {
      "cell_type": "code",
      "metadata": {
        "colab": {
          "base_uri": "https://localhost:8080/"
        },
        "id": "Q7W9DDbb35JL",
        "outputId": "02a2ef92-a304-4e62-ef1c-209bd3979114"
      },
      "source": [
        "df_upsampled.shape"
      ],
      "execution_count": 99,
      "outputs": [
        {
          "output_type": "execute_result",
          "data": {
            "text/plain": [
              "(830, 11)"
            ]
          },
          "metadata": {
            "tags": []
          },
          "execution_count": 99
        }
      ]
    },
    {
      "cell_type": "code",
      "metadata": {
        "colab": {
          "base_uri": "https://localhost:8080/"
        },
        "id": "hxcqjZdq37P5",
        "outputId": "32140a48-b43a-42a0-c1a3-4e0268ca787f"
      },
      "source": [
        "df_upsampled['Dataset'].value_counts()"
      ],
      "execution_count": 101,
      "outputs": [
        {
          "output_type": "execute_result",
          "data": {
            "text/plain": [
              "1    416\n",
              "2    414\n",
              "Name: Dataset, dtype: int64"
            ]
          },
          "metadata": {
            "tags": []
          },
          "execution_count": 101
        }
      ]
    },
    {
      "cell_type": "code",
      "metadata": {
        "colab": {
          "base_uri": "https://localhost:8080/"
        },
        "id": "QLLMiTx73--7",
        "outputId": "3c2701aa-7a61-458b-98c3-167cb977ce3b"
      },
      "source": [
        "features=df_upsampled[['Age', 'Gender', 'Total_Bilirubin', 'Direct_Bilirubin',\r\n",
        "       'Alkaline_Phosphotase', 'Alamine_Aminotransferase',\r\n",
        "       'Aspartate_Aminotransferase', 'Total_Protiens', 'Albumin',\r\n",
        "       'Albumin_and_Globulin_Ratio']]\r\n",
        "target=df_upsampled['Dataset']\r\n",
        "print(features.shape)\r\n",
        "print(target.shape)"
      ],
      "execution_count": 102,
      "outputs": [
        {
          "output_type": "stream",
          "text": [
            "(830, 10)\n",
            "(830,)\n"
          ],
          "name": "stdout"
        }
      ]
    },
    {
      "cell_type": "code",
      "metadata": {
        "id": "Uu53TZbg4QEA"
      },
      "source": [
        "gender=features.Gender\r\n",
        "gender=pd.get_dummies(gender,drop_first=True)\r\n",
        "features=features.drop(columns='Gender')\r\n",
        "features_merged=pd.concat([features,gender],axis='columns')"
      ],
      "execution_count": 103,
      "outputs": []
    },
    {
      "cell_type": "code",
      "metadata": {
        "colab": {
          "base_uri": "https://localhost:8080/",
          "height": 195
        },
        "id": "Twimh6ap4bd-",
        "outputId": "8b1d90fa-b751-4595-ac59-32d23aaf02a9"
      },
      "source": [
        "features_merged.head()"
      ],
      "execution_count": 104,
      "outputs": [
        {
          "output_type": "execute_result",
          "data": {
            "text/html": [
              "<div>\n",
              "<style scoped>\n",
              "    .dataframe tbody tr th:only-of-type {\n",
              "        vertical-align: middle;\n",
              "    }\n",
              "\n",
              "    .dataframe tbody tr th {\n",
              "        vertical-align: top;\n",
              "    }\n",
              "\n",
              "    .dataframe thead th {\n",
              "        text-align: right;\n",
              "    }\n",
              "</style>\n",
              "<table border=\"1\" class=\"dataframe\">\n",
              "  <thead>\n",
              "    <tr style=\"text-align: right;\">\n",
              "      <th></th>\n",
              "      <th>Age</th>\n",
              "      <th>Total_Bilirubin</th>\n",
              "      <th>Direct_Bilirubin</th>\n",
              "      <th>Alkaline_Phosphotase</th>\n",
              "      <th>Alamine_Aminotransferase</th>\n",
              "      <th>Aspartate_Aminotransferase</th>\n",
              "      <th>Total_Protiens</th>\n",
              "      <th>Albumin</th>\n",
              "      <th>Albumin_and_Globulin_Ratio</th>\n",
              "      <th>Male</th>\n",
              "    </tr>\n",
              "  </thead>\n",
              "  <tbody>\n",
              "    <tr>\n",
              "      <th>0</th>\n",
              "      <td>65</td>\n",
              "      <td>0.7</td>\n",
              "      <td>0.1</td>\n",
              "      <td>187</td>\n",
              "      <td>16</td>\n",
              "      <td>18</td>\n",
              "      <td>6.8</td>\n",
              "      <td>3.3</td>\n",
              "      <td>0.90</td>\n",
              "      <td>0</td>\n",
              "    </tr>\n",
              "    <tr>\n",
              "      <th>1</th>\n",
              "      <td>62</td>\n",
              "      <td>10.9</td>\n",
              "      <td>5.5</td>\n",
              "      <td>699</td>\n",
              "      <td>64</td>\n",
              "      <td>100</td>\n",
              "      <td>7.5</td>\n",
              "      <td>3.2</td>\n",
              "      <td>0.74</td>\n",
              "      <td>1</td>\n",
              "    </tr>\n",
              "    <tr>\n",
              "      <th>2</th>\n",
              "      <td>62</td>\n",
              "      <td>7.3</td>\n",
              "      <td>4.1</td>\n",
              "      <td>490</td>\n",
              "      <td>60</td>\n",
              "      <td>68</td>\n",
              "      <td>7.0</td>\n",
              "      <td>3.3</td>\n",
              "      <td>0.89</td>\n",
              "      <td>1</td>\n",
              "    </tr>\n",
              "    <tr>\n",
              "      <th>3</th>\n",
              "      <td>58</td>\n",
              "      <td>1.0</td>\n",
              "      <td>0.4</td>\n",
              "      <td>182</td>\n",
              "      <td>14</td>\n",
              "      <td>20</td>\n",
              "      <td>6.8</td>\n",
              "      <td>3.4</td>\n",
              "      <td>1.00</td>\n",
              "      <td>1</td>\n",
              "    </tr>\n",
              "    <tr>\n",
              "      <th>4</th>\n",
              "      <td>72</td>\n",
              "      <td>3.9</td>\n",
              "      <td>2.0</td>\n",
              "      <td>195</td>\n",
              "      <td>27</td>\n",
              "      <td>59</td>\n",
              "      <td>7.3</td>\n",
              "      <td>2.4</td>\n",
              "      <td>0.40</td>\n",
              "      <td>1</td>\n",
              "    </tr>\n",
              "  </tbody>\n",
              "</table>\n",
              "</div>"
            ],
            "text/plain": [
              "   Age  Total_Bilirubin  ...  Albumin_and_Globulin_Ratio  Male\n",
              "0   65              0.7  ...                        0.90     0\n",
              "1   62             10.9  ...                        0.74     1\n",
              "2   62              7.3  ...                        0.89     1\n",
              "3   58              1.0  ...                        1.00     1\n",
              "4   72              3.9  ...                        0.40     1\n",
              "\n",
              "[5 rows x 10 columns]"
            ]
          },
          "metadata": {
            "tags": []
          },
          "execution_count": 104
        }
      ]
    },
    {
      "cell_type": "code",
      "metadata": {
        "id": "tmuF5d6p4fll"
      },
      "source": [
        "imp_mean = SimpleImputer(missing_values=np.nan, strategy='mean')\r\n",
        "x=imp_mean.fit_transform(features_merged.values)"
      ],
      "execution_count": 105,
      "outputs": []
    },
    {
      "cell_type": "code",
      "metadata": {
        "colab": {
          "base_uri": "https://localhost:8080/"
        },
        "id": "JQ0Yj4MB4ptT",
        "outputId": "2b8a0dec-c0b9-4451-9d34-98e51e449e77"
      },
      "source": [
        "np.isnan in x"
      ],
      "execution_count": 106,
      "outputs": [
        {
          "output_type": "execute_result",
          "data": {
            "text/plain": [
              "False"
            ]
          },
          "metadata": {
            "tags": []
          },
          "execution_count": 106
        }
      ]
    },
    {
      "cell_type": "code",
      "metadata": {
        "colab": {
          "base_uri": "https://localhost:8080/"
        },
        "id": "T6k3iZbr4rvt",
        "outputId": "3d6c9f45-f1e3-4770-8627-b6ff8d2e802e"
      },
      "source": [
        "x.shape"
      ],
      "execution_count": 107,
      "outputs": [
        {
          "output_type": "execute_result",
          "data": {
            "text/plain": [
              "(830, 10)"
            ]
          },
          "metadata": {
            "tags": []
          },
          "execution_count": 107
        }
      ]
    },
    {
      "cell_type": "code",
      "metadata": {
        "id": "eDSjCjZi4sjK"
      },
      "source": [
        "sc=StandardScaler()\r\n",
        "x=sc.fit_transform(x)\r\n",
        "from sklearn.model_selection import train_test_split\r\n",
        "\r\n",
        "X_train,X_test,y_train,y_test=train_test_split(x,target,test_size=0.2,stratify=target,random_state=0)"
      ],
      "execution_count": 108,
      "outputs": []
    },
    {
      "cell_type": "markdown",
      "metadata": {
        "id": "tTKymrIz5E6b"
      },
      "source": [
        "### applying SVM\r\n"
      ]
    },
    {
      "cell_type": "code",
      "metadata": {
        "colab": {
          "base_uri": "https://localhost:8080/"
        },
        "id": "WHS5s1Rk4890",
        "outputId": "1d68fc72-fb87-4ae4-d19e-d75001e763d6"
      },
      "source": [
        "clf=SVC()\r\n",
        "clf.fit(X_train,y_train)\r\n",
        "print(\"Accuracy : \", accuracy_score(clf.predict(X_test),y_test))\r\n",
        "scores = cross_val_score(clf, X_train, y_train, cv=10)\r\n",
        "print(\"training accuracy with SVM: \",scores.mean())\r\n",
        "print(\"testing Accuracy with SVM : \", accuracy_score(clf.predict(X_test),y_test))"
      ],
      "execution_count": 109,
      "outputs": [
        {
          "output_type": "stream",
          "text": [
            "Accuracy :  0.7168674698795181\n",
            "training accuracy with SVM:  0.7122795115332429\n",
            "testing Accuracy with SVM :  0.7168674698795181\n"
          ],
          "name": "stdout"
        }
      ]
    },
    {
      "cell_type": "markdown",
      "metadata": {
        "id": "MzpkpQk05gmt"
      },
      "source": [
        "### Applying Random Forest:"
      ]
    },
    {
      "cell_type": "code",
      "metadata": {
        "colab": {
          "base_uri": "https://localhost:8080/"
        },
        "id": "o4t3fx_N5YAm",
        "outputId": "e9e5f508-1981-4832-965f-84c2edf8f89f"
      },
      "source": [
        "clf=RandomForestClassifier(n_estimators=8)\r\n",
        "clf.fit(X_train,y_train)\r\n",
        "print(\"Accuracy : \", accuracy_score(clf.predict(X_test),y_test))\r\n",
        "scores = cross_val_score(clf, X_train, y_train, cv=10)\r\n",
        "print(\"training accuracy with Random Forest: \",scores.mean())\r\n",
        "print(\"testing Accuracy with Random Forest : \", accuracy_score(clf.predict(X_test),y_test))"
      ],
      "execution_count": 112,
      "outputs": [
        {
          "output_type": "stream",
          "text": [
            "Accuracy :  0.9036144578313253\n",
            "training accuracy with Random Forest:  0.8236092265943011\n",
            "testing Accuracy with Random Forest :  0.9036144578313253\n"
          ],
          "name": "stdout"
        }
      ]
    },
    {
      "cell_type": "markdown",
      "metadata": {
        "id": "BHS405Ja54S_"
      },
      "source": [
        "## Applying Decision Tree :\r\n"
      ]
    },
    {
      "cell_type": "code",
      "metadata": {
        "colab": {
          "base_uri": "https://localhost:8080/"
        },
        "id": "uLe8xDi45mlr",
        "outputId": "48c12c76-3bf0-4c3c-a75a-40c5b0ed0838"
      },
      "source": [
        "clf=DecisionTreeClassifier()\r\n",
        "clf.fit(X_train,y_train)\r\n",
        "#print(\"Accuracy : \", accuracy_score(clf.predict(X_test),y_test))\r\n",
        "scores = cross_val_score(clf, X_train, y_train, cv=10)\r\n",
        "print(\"training accuracy with Decision Tree : \",scores.mean())\r\n",
        "print(\"testing Accuracy with Decision Tree  : \", accuracy_score(clf.predict(X_test),y_test))"
      ],
      "execution_count": 113,
      "outputs": [
        {
          "output_type": "stream",
          "text": [
            "training accuracy with Decision Tree :  0.819312528267752\n",
            "testing Accuracy with Decision Tree  :  0.8433734939759037\n"
          ],
          "name": "stdout"
        }
      ]
    },
    {
      "cell_type": "markdown",
      "metadata": {
        "id": "i9iNvljg6IBn"
      },
      "source": [
        "#Applying Logistic regression : "
      ]
    },
    {
      "cell_type": "code",
      "metadata": {
        "colab": {
          "base_uri": "https://localhost:8080/"
        },
        "id": "TrJU5s5F6ECk",
        "outputId": "f53c1cb4-1af4-4f53-a549-4ed98ea267d3"
      },
      "source": [
        "clf = LogisticRegression(random_state=0).fit(X_train, y_train)\r\n",
        "scores = cross_val_score(clf, X_train, y_train, cv=10)\r\n",
        "print(\"training accuracy with LOgistic Regression : \",scores.mean())\r\n",
        "print(\"testing Accuracy with Logistic regression : \", accuracy_score(clf.predict(X_test),y_test))"
      ],
      "execution_count": 114,
      "outputs": [
        {
          "output_type": "stream",
          "text": [
            "training accuracy with LOgistic Regression :  0.6925599276345544\n",
            "testing Accuracy with Logistic regression :  0.7228915662650602\n"
          ],
          "name": "stdout"
        }
      ]
    },
    {
      "cell_type": "markdown",
      "metadata": {
        "id": "VQpC6Af76rTZ"
      },
      "source": [
        "## Applying Naive Bayes : "
      ]
    },
    {
      "cell_type": "code",
      "metadata": {
        "colab": {
          "base_uri": "https://localhost:8080/"
        },
        "id": "ACU9LR-z6cwh",
        "outputId": "c5cd7f61-1291-47eb-8e1a-2727b3afc7eb"
      },
      "source": [
        "from sklearn.naive_bayes import GaussianNB\r\n",
        "\r\n",
        "clf=GaussianNB()\r\n",
        "clf.fit(X_train,y_train)\r\n",
        "scores = cross_val_score(clf, X_train, y_train, cv=10)\r\n",
        "print(\"training accuracy with Naive Bayes  : \",scores.mean())\r\n",
        "print(\"testing Accuracy with Nayive Bayes: \", accuracy_score(clf.predict(X_test),y_test))"
      ],
      "execution_count": 116,
      "outputs": [
        {
          "output_type": "stream",
          "text": [
            "training accuracy with Naive Bayes  :  0.6836725463591136\n",
            "testing Accuracy with Nayive Bayes:  0.7048192771084337\n"
          ],
          "name": "stdout"
        }
      ]
    },
    {
      "cell_type": "markdown",
      "metadata": {
        "id": "Ng3_w2OW7S26"
      },
      "source": [
        "we can clearly obsever that there has been a significant improvemment in the accuracy of the dataset after we converted our imbalanced dataset into balanced using upsampling technique."
      ]
    },
    {
      "cell_type": "code",
      "metadata": {
        "id": "g4AosRax7EFZ"
      },
      "source": [
        ""
      ],
      "execution_count": null,
      "outputs": []
    }
  ]
}